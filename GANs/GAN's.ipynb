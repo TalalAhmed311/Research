{
  "nbformat": 4,
  "nbformat_minor": 0,
  "metadata": {
    "colab": {
      "provenance": []
    },
    "kernelspec": {
      "name": "python3",
      "display_name": "Python 3"
    },
    "language_info": {
      "name": "python"
    },
    "accelerator": "GPU"
  },
  "cells": [
    {
      "cell_type": "code",
      "execution_count": 1,
      "metadata": {
        "id": "csjfiU6CNVxT"
      },
      "outputs": [],
      "source": [
        "import tensorflow as tf\n",
        "import numpy as np\n",
        "import imageio\n",
        "import tensorflow_datasets as tfds\n",
        "from matplotlib import pyplot as plt"
      ]
    },
    {
      "cell_type": "code",
      "source": [
        "(train_images, train_labels), (_,_) = tf.keras.datasets.mnist.load_data()"
      ],
      "metadata": {
        "colab": {
          "base_uri": "https://localhost:8080/"
        },
        "id": "XMUojqckNZ_V",
        "outputId": "08772e2d-5ca7-403c-e3b7-a3ee8a99bfde"
      },
      "execution_count": 99,
      "outputs": [
        {
          "output_type": "stream",
          "name": "stdout",
          "text": [
            "Downloading data from https://storage.googleapis.com/tensorflow/tf-keras-datasets/mnist.npz\n",
            "11490434/11490434 [==============================] - 0s 0us/step\n"
          ]
        }
      ]
    },
    {
      "cell_type": "code",
      "source": [
        "train_images.shape"
      ],
      "metadata": {
        "colab": {
          "base_uri": "https://localhost:8080/"
        },
        "id": "A66NNh8tNoqz",
        "outputId": "10cabafe-7326-4bf2-91d0-b19eb97acc49"
      },
      "execution_count": 100,
      "outputs": [
        {
          "output_type": "execute_result",
          "data": {
            "text/plain": [
              "(60000, 28, 28)"
            ]
          },
          "metadata": {},
          "execution_count": 100
        }
      ]
    },
    {
      "cell_type": "markdown",
      "source": [
        "# Visualize Images"
      ],
      "metadata": {
        "id": "UcG1LlOUOJvi"
      }
    },
    {
      "cell_type": "code",
      "source": [
        "fig, ax = plt.subplots(ncols=4,figsize=(15,15))\n",
        "\n",
        "for idx in range(4):\n",
        "\n",
        "\n",
        "  ax[idx].imshow(np.squeeze(train_images[idx,:,:]))\n",
        "  ax[idx].title.set_text(train_labels[idx])"
      ],
      "metadata": {
        "colab": {
          "base_uri": "https://localhost:8080/",
          "height": 246
        },
        "id": "3zwjLX8jN9H1",
        "outputId": "7f27a8d4-4bfe-4d12-e942-c42c3947dbcc"
      },
      "execution_count": 101,
      "outputs": [
        {
          "output_type": "display_data",
          "data": {
            "text/plain": [
              "<Figure size 1080x1080 with 4 Axes>"
            ],
            "image/png": "[encoded data removed]"
          },
          "metadata": {
            "needs_background": "light"
          }
        }
      ]
    },
    {
      "cell_type": "code",
      "source": [
        "# Build the dataset pipeline\n",
        "train_dataset = tf.data.Dataset.from_tensor_slices(train_images).shuffle(10000).batch(128).prefetch(64)\n"
      ],
      "metadata": {
        "id": "-bTqaarOOzPu"
      },
      "execution_count": 102,
      "outputs": []
    },
    {
      "cell_type": "markdown",
      "source": [
        "# Build Model"
      ],
      "metadata": {
        "id": "JigfNNdLVkeO"
      }
    },
    {
      "cell_type": "code",
      "source": [
        "from tensorflow.keras.models import Sequential\n",
        "from tensorflow.keras.layers import Conv2D, Dense, Flatten, Reshape, Dropout, Conv2DTranspose, BatchNormalization, LeakyReLU\n",
        "from keras import Model"
      ],
      "metadata": {
        "id": "j1f89M0MVwzy"
      },
      "execution_count": 149,
      "outputs": []
    },
    {
      "cell_type": "markdown",
      "source": [
        "## Generator"
      ],
      "metadata": {
        "id": "U0Mj4q3pY_a9"
      }
    },
    {
      "cell_type": "code",
      "source": [
        "def generator_model():\n",
        "  model =  Sequential()\n",
        "\n",
        "  model.add(Dense(500,input_dim=100))\n",
        "  model.add(Dense(7*7*100,activation='selu'))\n",
        "  model.add(BatchNormalization())\n",
        "  model.add(Reshape((7,7,100)))\n",
        "\n",
        "  # Upsample\n",
        "  model.add((Conv2DTranspose(64,kernel_size=5,strides=1,padding=\"same\",activation=\"selu\")))\n",
        "  model.add(BatchNormalization())\n",
        "  model.add(Conv2D(128,kernel_size=5,padding=\"same\"))\n",
        "\n",
        "\n",
        "  # Upsample\n",
        "  model.add((Conv2DTranspose(64,kernel_size=5,strides=2,padding=\"same\",activation=\"selu\")))\n",
        "  model.add(BatchNormalization())\n",
        "  model.add(Conv2D(64,kernel_size=5,padding=\"same\"))\n",
        "\n",
        "  model.add((Conv2DTranspose(1,kernel_size=5,strides=2,padding=\"same\",activation=\"tanh\")))\n",
        "\n",
        "  return model\n"
      ],
      "metadata": {
        "id": "9XQvx5IXQ3za"
      },
      "execution_count": 150,
      "outputs": []
    },
    {
      "cell_type": "code",
      "source": [
        "generator = generator_model()"
      ],
      "metadata": {
        "id": "vrRgoX4IYDEY"
      },
      "execution_count": 151,
      "outputs": []
    },
    {
      "cell_type": "code",
      "source": [
        "generator.summary()"
      ],
      "metadata": {
        "colab": {
          "base_uri": "https://localhost:8080/"
        },
        "id": "mnT6A7DIYH8N",
        "outputId": "a36b40b1-0772-46eb-a968-5ff046eef230"
      },
      "execution_count": 152,
      "outputs": [
        {
          "output_type": "stream",
          "name": "stdout",
          "text": [
            "Model: \"sequential_9\"\n",
            "_________________________________________________________________\n",
            " Layer (type)                Output Shape              Param #   \n",
            "=================================================================\n",
            " dense_13 (Dense)            (None, 500)               50500     \n",
            "                                                                 \n",
            " dense_14 (Dense)            (None, 4900)              2454900   \n",
            "                                                                 \n",
            " batch_normalization_12 (Bat  (None, 4900)             19600     \n",
            " chNormalization)                                                \n",
            "                                                                 \n",
            " reshape_4 (Reshape)         (None, 7, 7, 100)         0         \n",
            "                                                                 \n",
            " conv2d_transpose_12 (Conv2D  (None, 7, 7, 64)         160064    \n",
            " Transpose)                                                      \n",
            "                                                                 \n",
            " batch_normalization_13 (Bat  (None, 7, 7, 64)         256       \n",
            " chNormalization)                                                \n",
            "                                                                 \n",
            " conv2d_18 (Conv2D)          (None, 7, 7, 128)         204928    \n",
            "                                                                 \n",
            " conv2d_transpose_13 (Conv2D  (None, 14, 14, 64)       204864    \n",
            " Transpose)                                                      \n",
            "                                                                 \n",
            " batch_normalization_14 (Bat  (None, 14, 14, 64)       256       \n",
            " chNormalization)                                                \n",
            "                                                                 \n",
            " conv2d_19 (Conv2D)          (None, 14, 14, 64)        102464    \n",
            "                                                                 \n",
            " conv2d_transpose_14 (Conv2D  (None, 28, 28, 1)        1601      \n",
            " Transpose)                                                      \n",
            "                                                                 \n",
            "=================================================================\n",
            "Total params: 3,199,433\n",
            "Trainable params: 3,189,377\n",
            "Non-trainable params: 10,056\n",
            "_________________________________________________________________\n"
          ]
        }
      ]
    },
    {
      "cell_type": "code",
      "source": [
        "img = generator.predict(np.random.randn(4,100,1))"
      ],
      "metadata": {
        "colab": {
          "base_uri": "https://localhost:8080/"
        },
        "id": "RyboJDFWYLT0",
        "outputId": "e994f273-c8f5-429e-885c-195f4177a6c2"
      },
      "execution_count": 153,
      "outputs": [
        {
          "output_type": "stream",
          "name": "stdout",
          "text": [
            "1/1 [==============================] - 0s 146ms/step\n"
          ]
        }
      ]
    },
    {
      "cell_type": "code",
      "source": [
        "# Show the predicted images\n",
        "\n",
        "fig, ax = plt.subplots(ncols=4, figsize=(20,20))\n",
        "for idx, img in enumerate(img): \n",
        "    ax[idx].imshow(np.squeeze(img))\n",
        "    ax[idx].title.set_text(idx)"
      ],
      "metadata": {
        "colab": {
          "base_uri": "https://localhost:8080/",
          "height": 255
        },
        "id": "YChlutE3YkjI",
        "outputId": "d5c024fe-6be3-4776-8c34-a410f293ceb0"
      },
      "execution_count": 154,
      "outputs": [
        {
          "output_type": "display_data",
          "data": {
            "text/plain": [
              "<Figure size 1440x1440 with 4 Axes>"
            ],
            "image/png": "[encoded data removed]"
          },
          "metadata": {
            "needs_background": "light"
          }
        }
      ]
    },
    {
      "cell_type": "markdown",
      "source": [
        "## Discriminator"
      ],
      "metadata": {
        "id": "Ywz3EgG-Y8Vd"
      }
    },
    {
      "cell_type": "code",
      "source": [
        "def discriminator_model():\n",
        "  model = Sequential()\n",
        "\n",
        "  model.add(Conv2D(64,kernel_size=5,strides=2,padding=\"same\",activation=LeakyReLU(0.2),input_shape=[28,28,1]))\n",
        "  model.add(Dropout(0.3))\n",
        "  \n",
        "  model.add(Conv2D(128,kernel_size=5,strides=2,padding=\"same\",activation=LeakyReLU(0.2)))\n",
        "  model.add(Dropout(0.3))\n",
        "\n",
        "  model.add(Conv2D(256,kernel_size=5,strides=2,padding=\"same\",activation=LeakyReLU(0.2)))\n",
        "  model.add(Dropout(0.3))\n",
        "\n",
        "  model.add(tf.keras.layers.Flatten())\n",
        "  model.add(Dense(1,activation='sigmoid'))\n",
        "\n",
        "  return model"
      ],
      "metadata": {
        "id": "24yQ30dSYt-U"
      },
      "execution_count": 155,
      "outputs": []
    },
    {
      "cell_type": "code",
      "source": [
        "discriminator = discriminator_model()"
      ],
      "metadata": {
        "id": "xoAxSpjiZ6h3"
      },
      "execution_count": 156,
      "outputs": []
    },
    {
      "cell_type": "code",
      "source": [
        "discriminator.summary()"
      ],
      "metadata": {
        "colab": {
          "base_uri": "https://localhost:8080/"
        },
        "id": "SlYPX1SYZ_vH",
        "outputId": "da750aa9-cc59-45be-f021-34dc627ec729"
      },
      "execution_count": 157,
      "outputs": [
        {
          "output_type": "stream",
          "name": "stdout",
          "text": [
            "Model: \"sequential_10\"\n",
            "_________________________________________________________________\n",
            " Layer (type)                Output Shape              Param #   \n",
            "=================================================================\n",
            " conv2d_20 (Conv2D)          (None, 14, 14, 64)        1664      \n",
            "                                                                 \n",
            " dropout_9 (Dropout)         (None, 14, 14, 64)        0         \n",
            "                                                                 \n",
            " conv2d_21 (Conv2D)          (None, 7, 7, 128)         204928    \n",
            "                                                                 \n",
            " dropout_10 (Dropout)        (None, 7, 7, 128)         0         \n",
            "                                                                 \n",
            " conv2d_22 (Conv2D)          (None, 4, 4, 256)         819456    \n",
            "                                                                 \n",
            " dropout_11 (Dropout)        (None, 4, 4, 256)         0         \n",
            "                                                                 \n",
            " flatten_3 (Flatten)         (None, 4096)              0         \n",
            "                                                                 \n",
            " dense_15 (Dense)            (None, 1)                 4097      \n",
            "                                                                 \n",
            "=================================================================\n",
            "Total params: 1,030,145\n",
            "Trainable params: 1,030,145\n",
            "Non-trainable params: 0\n",
            "_________________________________________________________________\n"
          ]
        }
      ]
    },
    {
      "cell_type": "code",
      "source": [
        "discriminator(tf.expand_dims(img,axis=0))"
      ],
      "metadata": {
        "colab": {
          "base_uri": "https://localhost:8080/"
        },
        "id": "cVoUcaRUaMdJ",
        "outputId": "9436fa78-7268-4cc3-e5c7-52caca736a83"
      },
      "execution_count": 158,
      "outputs": [
        {
          "output_type": "execute_result",
          "data": {
            "text/plain": [
              "<tf.Tensor: shape=(1, 1), dtype=float32, numpy=array([[0.4995611]], dtype=float32)>"
            ]
          },
          "metadata": {},
          "execution_count": 158
        }
      ]
    },
    {
      "cell_type": "markdown",
      "source": [
        "# Loss Function"
      ],
      "metadata": {
        "id": "lNfV6Pf2bCpn"
      }
    },
    {
      "cell_type": "code",
      "source": [
        "from tensorflow.keras.optimizers import Adam\n",
        "from tensorflow.keras.losses import BinaryCrossentropy\n",
        "import os\n",
        "from IPython import display"
      ],
      "metadata": {
        "id": "6pv9LkoCaP5G"
      },
      "execution_count": 159,
      "outputs": []
    },
    {
      "cell_type": "code",
      "source": [
        "cross_entropy = tf.keras.losses.BinaryCrossentropy(from_logits=True)"
      ],
      "metadata": {
        "id": "RhfJEX6FbLXl"
      },
      "execution_count": 160,
      "outputs": []
    },
    {
      "cell_type": "code",
      "source": [
        "def discriminator_loss(real_output, fake_output):\n",
        "    real_loss = cross_entropy(tf.ones_like(real_output), real_output)\n",
        "    fake_loss = cross_entropy(tf.zeros_like(fake_output), fake_output)\n",
        "    total_loss = real_loss + fake_loss\n",
        "    return total_loss"
      ],
      "metadata": {
        "id": "kBXZxospbP2E"
      },
      "execution_count": 161,
      "outputs": []
    },
    {
      "cell_type": "code",
      "source": [
        "def generator_loss(fake_output):\n",
        "    return cross_entropy(tf.ones_like(fake_output), fake_output)"
      ],
      "metadata": {
        "id": "raRs5dZtbRHq"
      },
      "execution_count": 162,
      "outputs": []
    },
    {
      "cell_type": "code",
      "source": [
        "generator_optimizer = tf.keras.optimizers.Adam(1e-4)\n",
        "discriminator_optimizer = tf.keras.optimizers.Adam(1e-4)"
      ],
      "metadata": {
        "id": "zhSOF-pSbS4k"
      },
      "execution_count": 163,
      "outputs": []
    },
    {
      "cell_type": "markdown",
      "source": [
        "# Defining Training Loop"
      ],
      "metadata": {
        "id": "Y6cdVUJockCh"
      }
    },
    {
      "cell_type": "code",
      "source": [
        "batch_size = 128\n",
        "noise_dim = 100\n",
        "epochs = 60"
      ],
      "metadata": {
        "id": "rbgV1-Drcu14"
      },
      "execution_count": 164,
      "outputs": []
    },
    {
      "cell_type": "code",
      "source": [
        "@tf.function\n",
        "def train_step(images):\n",
        "  real_images = images\n",
        "  gen_noise = tf.random.normal([batch_size,noise_dim])\n",
        "\n",
        "  # generate fake images\n",
        "  generated_images = generator(gen_noise,training=False)\n",
        "\n",
        "  # Train Discriminator\n",
        "\n",
        "  with tf.GradientTape() as dis_tape:\n",
        "    yhat_real = discriminator(real_images,training=True)\n",
        "    yhat_fake = discriminator(generated_images,training=True)\n",
        "\n",
        "    d_loss = discriminator_loss(yhat_real,yhat_fake)\n",
        "    \n",
        "  # Apply backpropagation - nn learn \n",
        "  dgrad = dis_tape.gradient(d_loss, discriminator.trainable_variables) \n",
        "  discriminator_optimizer.apply_gradients(zip(dgrad, discriminator.trainable_variables))\n",
        "\n",
        "  # Train Generator\n",
        "\n",
        "  with tf.GradientTape() as gen_tape:\n",
        "    generated_images =  generator(gen_noise,training=True)\n",
        "\n",
        "    pred_labels = discriminator(generated_images,training=False)\n",
        "\n",
        "    # Generator loss\n",
        "    g_loss = generator_loss(pred_labels)\n",
        "\n",
        "  ggrad = gen_tape.gradient(g_loss, generator.trainable_variables)\n",
        "  generator_optimizer.apply_gradients(zip(ggrad,generator.trainable_variables))\n",
        "\n",
        "  return d_loss,g_loss"
      ],
      "metadata": {
        "id": "7DOyvschbUq4"
      },
      "execution_count": 165,
      "outputs": []
    },
    {
      "cell_type": "code",
      "source": [
        "def generate_and_save_images(model, epoch, test_input):\n",
        "  # Notice `training` is set to False.\n",
        "  # This is so all layers run in inference mode (batchnorm).\n",
        "  predictions = model(test_input, training=False)\n",
        "\n",
        "  fig = plt.figure(figsize=(4, 4))\n",
        "\n",
        "  for i in range(predictions.shape[0]):\n",
        "      plt.subplot(4, 4, i+1)\n",
        "      plt.imshow(predictions[i, :, :, 0] * 127.5 + 127.5, cmap='gray')\n",
        "      plt.axis('off')\n",
        "\n",
        "  if os.path.exists('Images'):\n",
        "    path = os.path.join('Images','image_at_epoch_{:04d}.png'.format(epoch))\n",
        "\n",
        "  else:\n",
        "    os.mkdir('Images')\n",
        "    path = os.path.join('Images','image_at_epoch_{:04d}.png'.format(epoch))\n",
        "\n",
        "\n",
        "  plt.savefig(path)\n",
        "  plt.show()"
      ],
      "metadata": {
        "id": "DrwkcdSGof4n"
      },
      "execution_count": 166,
      "outputs": []
    },
    {
      "cell_type": "code",
      "source": [
        "def train(dataset,epochs):\n",
        "\n",
        "  d_loss=g_loss=None\n",
        "  for epoch in range(epochs):\n",
        "    for img_batch in dataset:\n",
        "\n",
        "      g_loss,d_loss = train_step(tf.expand_dims(img_batch,axis=-1))\n",
        "\n",
        "      # Produce images for the GIF as you go\n",
        "      display.clear_output(wait=True)\n",
        "      examples = tf.random.normal([16,100])\n",
        "      generate_and_save_images(generator,\n",
        "                              epoch + 1,\n",
        "                              examples)\n",
        "      \n",
        "    print(f\"EPOCH: {epoch}, disc_loss: {d_loss}, gen_loss{g_loss}\\n\")\n",
        "      \n",
        "  # Generate after the final epoch\n",
        "  display.clear_output(wait=True)\n",
        "  generate_and_save_images(generator,\n",
        "                           epochs,\n",
        "                           examples)\n"
      ],
      "metadata": {
        "id": "ddtgfJhbnugh"
      },
      "execution_count": 167,
      "outputs": []
    },
    {
      "cell_type": "markdown",
      "source": [
        "# Train the Model"
      ],
      "metadata": {
        "id": "HYuBofiLqoZa"
      }
    },
    {
      "cell_type": "code",
      "source": [
        "train(train_dataset, epochs)"
      ],
      "metadata": {
        "id": "EsmESh_znucU"
      },
      "execution_count": 1,
      "outputs": []
    },
    {
      "cell_type": "code",
      "source": [],
      "metadata": {
        "id": "SMCa4LAEjwMA"
      },
      "execution_count": null,
      "outputs": []
    }
  ]
}